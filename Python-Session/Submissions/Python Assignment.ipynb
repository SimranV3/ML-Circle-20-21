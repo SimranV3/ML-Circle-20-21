{
 "cells": [
  {
   "cell_type": "markdown",
   "metadata": {},
   "source": []
  },
  {
   "cell_type": "code",
   "execution_count": 27,
   "metadata": {},
   "outputs": [
    {
     "name": "stdout",
     "output_type": "stream",
     "text": [
      "Enter first number: 9\n",
      "Enter second number: 25\n",
      "The maximum of two numbers is: 25\n"
     ]
    }
   ],
   "source": [
    "num1 = int(input(\"Enter first number: \"))\n",
    "num2 = int(input(\"Enter second number: \"))\n",
    "print(\"The maximum of two numbers is: \"+str(max(num1,num2)))"
   ]
  },
  {
   "cell_type": "code",
   "execution_count": 34,
   "metadata": {
    "scrolled": true
   },
   "outputs": [
    {
     "name": "stdout",
     "output_type": "stream",
     "text": [
      "Enter a number: 5\n"
     ]
    },
    {
     "data": {
      "text/plain": [
       "'Buzz'"
      ]
     },
     "execution_count": 34,
     "metadata": {},
     "output_type": "execute_result"
    }
   ],
   "source": [
    "def fizz_buzz(num):\n",
    "    if(num%3==0):\n",
    "        return \"Fizz\"\n",
    "    elif(num%5==0):\n",
    "        return \"Buzz\"\n",
    "    elif(num%3==0 & num%5==0):\n",
    "        return \"FizzBuzz\"\n",
    "    else:\n",
    "        return num\n",
    "\n",
    "\n",
    "num=int(input(\"Enter a number: \"))\n",
    "fizz_buzz(num) "
   ]
  },
  {
   "cell_type": "code",
   "execution_count": 32,
   "metadata": {},
   "outputs": [
    {
     "name": "stdout",
     "output_type": "stream",
     "text": [
      "Enter speed: 100\n",
      "Point: 6\n",
      "None\n"
     ]
    }
   ],
   "source": [
    "def speed_check(speed):\n",
    "    if speed <= 70:\n",
    "        return \"OK\"\n",
    "\n",
    "    else:\n",
    "        speed1 = (speed-70)//5\n",
    "\n",
    "        if speed1 <= 12:\n",
    "            return print(f\"Point: {speed1}\")\n",
    "\n",
    "        else:\n",
    "            return print(\"License suspended\")\n",
    "\n",
    "\n",
    "enter = speed_check(int(input(\"Enter speed: \")))\n",
    "print(enter)"
   ]
  },
  {
   "cell_type": "code",
   "execution_count": 35,
   "metadata": {},
   "outputs": [
    {
     "name": "stdout",
     "output_type": "stream",
     "text": [
      "Enter the limit: 6\n",
      "0 EVEN\n",
      "1 ODD\n",
      "2 EVEN\n",
      "3 ODD\n",
      "4 EVEN\n",
      "5 ODD\n",
      "6 EVEN\n"
     ]
    }
   ],
   "source": [
    "def showNumbers(limit):\n",
    "    for i in range(0,limit+1):\n",
    "        if(i%2==0):\n",
    "            print(str(i)+\" EVEN\")\n",
    "        else:\n",
    "            print(str(i)+\" ODD\")\n",
    "        \n",
    "limit=int(input(\"Enter the limit: \"))\n",
    "showNumbers(limit)"
   ]
  },
  {
   "cell_type": "code",
   "execution_count": 22,
   "metadata": {},
   "outputs": [
    {
     "name": "stdout",
     "output_type": "stream",
     "text": [
      "Sum of multiples of  7  up to  49  =  196.0\n"
     ]
    }
   ],
   "source": [
    "def calculate_sum(a, N): \n",
    "  \n",
    "    # Number of multiples \n",
    "    m = N / a \n",
    "  \n",
    "    # sum of first m natural numbers \n",
    "    sum = m * (m + 1) / 2\n",
    "  \n",
    "    # sum of multiples \n",
    "    ans = a * sum\n",
    "  \n",
    "    print(\"Sum of multiples of \", a, \n",
    "          \" up to \", N, \" = \", ans) \n",
    "  \n",
    "\n",
    "calculate_sum(7, 49)"
   ]
  },
  {
   "cell_type": "code",
   "execution_count": null,
   "metadata": {},
   "outputs": [],
   "source": []
  }
 ],
 "metadata": {
  "kernelspec": {
   "display_name": "Python 3",
   "language": "python",
   "name": "python3"
  },
  "language_info": {
   "codemirror_mode": {
    "name": "ipython",
    "version": 3
   },
   "file_extension": ".py",
   "mimetype": "text/x-python",
   "name": "python",
   "nbconvert_exporter": "python",
   "pygments_lexer": "ipython3",
   "version": "3.8.5"
  }
 },
 "nbformat": 4,
 "nbformat_minor": 4
}
